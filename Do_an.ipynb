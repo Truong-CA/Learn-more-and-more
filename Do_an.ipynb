{
 "cells": [
  {
   "cell_type": "code",
   "execution_count": 11,
   "metadata": {},
   "outputs": [
    {
     "name": "stdout",
     "output_type": "stream",
     "text": [
      "Requirement already satisfied: selenium in c:\\users\\khoi0\\appdata\\local\\programs\\python\\python311\\lib\\site-packages (4.25.0)Note: you may need to restart the kernel to use updated packages.\n",
      "\n",
      "Requirement already satisfied: beautifulsoup4 in c:\\users\\khoi0\\appdata\\local\\programs\\python\\python311\\lib\\site-packages (4.12.2)\n",
      "Requirement already satisfied: urllib3<3,>=1.26 in c:\\users\\khoi0\\appdata\\local\\programs\\python\\python311\\lib\\site-packages (from urllib3[socks]<3,>=1.26->selenium) (2.1.0)\n",
      "Requirement already satisfied: trio~=0.17 in c:\\users\\khoi0\\appdata\\local\\programs\\python\\python311\\lib\\site-packages (from selenium) (0.26.2)\n",
      "Requirement already satisfied: trio-websocket~=0.9 in c:\\users\\khoi0\\appdata\\local\\programs\\python\\python311\\lib\\site-packages (from selenium) (0.11.1)\n",
      "Requirement already satisfied: certifi>=2021.10.8 in c:\\users\\khoi0\\appdata\\local\\programs\\python\\python311\\lib\\site-packages (from selenium) (2023.11.17)\n",
      "Requirement already satisfied: typing_extensions~=4.9 in c:\\users\\khoi0\\appdata\\local\\programs\\python\\python311\\lib\\site-packages (from selenium) (4.12.2)\n",
      "Requirement already satisfied: websocket-client~=1.8 in c:\\users\\khoi0\\appdata\\local\\programs\\python\\python311\\lib\\site-packages (from selenium) (1.8.0)\n",
      "Requirement already satisfied: soupsieve>1.2 in c:\\users\\khoi0\\appdata\\local\\programs\\python\\python311\\lib\\site-packages (from beautifulsoup4) (2.5)\n",
      "Requirement already satisfied: attrs>=23.2.0 in c:\\users\\khoi0\\appdata\\local\\programs\\python\\python311\\lib\\site-packages (from trio~=0.17->selenium) (24.2.0)\n",
      "Requirement already satisfied: sortedcontainers in c:\\users\\khoi0\\appdata\\local\\programs\\python\\python311\\lib\\site-packages (from trio~=0.17->selenium) (2.4.0)\n",
      "Requirement already satisfied: idna in c:\\users\\khoi0\\appdata\\local\\programs\\python\\python311\\lib\\site-packages (from trio~=0.17->selenium) (3.6)\n",
      "Requirement already satisfied: outcome in c:\\users\\khoi0\\appdata\\local\\programs\\python\\python311\\lib\\site-packages (from trio~=0.17->selenium) (1.3.0.post0)\n",
      "Requirement already satisfied: sniffio>=1.3.0 in c:\\users\\khoi0\\appdata\\local\\programs\\python\\python311\\lib\\site-packages (from trio~=0.17->selenium) (1.3.0)\n",
      "Requirement already satisfied: cffi>=1.14 in c:\\users\\khoi0\\appdata\\local\\programs\\python\\python311\\lib\\site-packages (from trio~=0.17->selenium) (1.16.0)\n",
      "Requirement already satisfied: wsproto>=0.14 in c:\\users\\khoi0\\appdata\\local\\programs\\python\\python311\\lib\\site-packages (from trio-websocket~=0.9->selenium) (1.2.0)\n",
      "Requirement already satisfied: pysocks!=1.5.7,<2.0,>=1.5.6 in c:\\users\\khoi0\\appdata\\local\\programs\\python\\python311\\lib\\site-packages (from urllib3[socks]<3,>=1.26->selenium) (1.7.1)\n",
      "Requirement already satisfied: pycparser in c:\\users\\khoi0\\appdata\\local\\programs\\python\\python311\\lib\\site-packages (from cffi>=1.14->trio~=0.17->selenium) (2.21)\n",
      "Requirement already satisfied: h11<1,>=0.9.0 in c:\\users\\khoi0\\appdata\\local\\programs\\python\\python311\\lib\\site-packages (from wsproto>=0.14->trio-websocket~=0.9->selenium) (0.14.0)\n"
     ]
    }
   ],
   "source": [
    "pip install selenium beautifulsoup4"
   ]
  },
  {
   "cell_type": "code",
   "execution_count": 2,
   "metadata": {},
   "outputs": [],
   "source": [
    "from selenium import webdriver\n",
    "from selenium.webdriver.chrome.service import Service\n",
    "from selenium.webdriver.common.by import By\n",
    "from selenium.webdriver.common.keys import Keys\n",
    "from selenium.webdriver.support.ui import WebDriverWait\n",
    "from selenium.webdriver.support import expected_conditions as EC\n",
    "import time\n",
    "\n",
    "# creat service\n",
    "service = Service(executable_path = \"chromedriver.exe\")\n",
    "driver = webdriver.Chrome(service = service)\n",
    "# open gg\n",
    "driver.get(\"https://google.com\")\n",
    "#\n",
    "WebDriverWait(driver, 5).until(\n",
    "    EC.presence_of_element_located((By.CLASS_NAME, \"gLFyf\"))\n",
    ")\n",
    "# tuong tac voi thanh tim kiep google\n",
    "# goi ham de tim phan tu bang cach su dung ten lop CLASS_NAME la \"gLFyf\" (ten lop cua thanh tim kiem gg) \n",
    "input_element = driver.find_element(By.CLASS_NAME, \"gLFyf\")\n",
    "# dung send_keys de nhap tu khoa tim kiem va nhan tim kiem bang ENTER\n",
    "input_element.send_keys(\"nguyenkim\" + Keys.ENTER)\n",
    "#click\n",
    "WebDriverWait(driver, 5).until(\n",
    "    EC.presence_of_element_located((By.PARTIAL_LINK_TEXT, \"Nguyễn Kim - Mua tủ lạnh, máy lạnh, tivi, máy giặt chính hãng\"))\n",
    ")\n",
    "\n",
    "click_result = driver.find_element(By.PARTIAL_LINK_TEXT, \"Nguyễn Kim - Mua tủ lạnh, máy lạnh, tivi, máy giặt chính hãng\")\n",
    "click_result.click()"
   ]
  }
 ],
 "metadata": {
  "kernelspec": {
   "display_name": "Python 3",
   "language": "python",
   "name": "python3"
  },
  "language_info": {
   "codemirror_mode": {
    "name": "ipython",
    "version": 3
   },
   "file_extension": ".py",
   "mimetype": "text/x-python",
   "name": "python",
   "nbconvert_exporter": "python",
   "pygments_lexer": "ipython3",
   "version": "3.11.5"
  }
 },
 "nbformat": 4,
 "nbformat_minor": 2
}
